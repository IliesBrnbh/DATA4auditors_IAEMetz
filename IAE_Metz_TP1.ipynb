{
  "nbformat": 4,
  "nbformat_minor": 0,
  "metadata": {
    "colab": {
      "provenance": [],
      "authorship_tag": "ABX9TyO57FpsqCBuerLd9mTb4rxf",
      "include_colab_link": true
    },
    "kernelspec": {
      "name": "python3",
      "display_name": "Python 3"
    },
    "language_info": {
      "name": "python"
    }
  },
  "cells": [
    {
      "cell_type": "markdown",
      "metadata": {
        "id": "view-in-github",
        "colab_type": "text"
      },
      "source": [
        "<a href=\"https://colab.research.google.com/github/IliesBrnbh/DATA4auditors_IAEMetz/blob/main/IAE_Metz_TP1.ipynb\" target=\"_parent\"><img src=\"https://colab.research.google.com/assets/colab-badge.svg\" alt=\"Open In Colab\"/></a>"
      ]
    },
    {
      "cell_type": "code",
      "execution_count": null,
      "metadata": {
        "colab": {
          "base_uri": "https://localhost:8080/"
        },
        "id": "TGt1_SgJsT7P",
        "outputId": "4ee2e567-7c92-48c1-fa6b-25ebf4d4b120"
      },
      "outputs": [
        {
          "output_type": "stream",
          "name": "stdout",
          "text": [
            "Hello World! IAE Metz Data 4 Auditors\n"
          ]
        }
      ],
      "source": [
        "#Introduction à Python\n",
        "print('Hello World! IAE Metz Data 4 Auditors')"
      ]
    },
    {
      "cell_type": "markdown",
      "source": [
        "# Simple examples\n",
        "Nous allons voir les bases de Python"
      ],
      "metadata": {
        "id": "QYlnhB_ntIjn"
      }
    },
    {
      "cell_type": "code",
      "source": [
        "# On va définir des variables\n",
        "prenom = 'Matt' # est du texte c'est donc un STRING\n",
        "salaire_de_stage = 1711 # INTEGER c'est un entier naturel\n",
        "salaire_net = 1680.95 # FLOAT = chiffre à virgule"
      ],
      "metadata": {
        "id": "7dAZ1nbhtd3_"
      },
      "execution_count": null,
      "outputs": []
    },
    {
      "cell_type": "code",
      "source": [
        "print(f\"Je m'appelle {prenom} et je gagnerai {salaire_de_stage} euros\")"
      ],
      "metadata": {
        "colab": {
          "base_uri": "https://localhost:8080/"
        },
        "id": "Xj2feWTnv9Ke",
        "outputId": "821eed8e-a312-4da2-d9d7-4d0ee2f233bb"
      },
      "execution_count": null,
      "outputs": [
        {
          "output_type": "stream",
          "name": "stdout",
          "text": [
            "Je m'appelle Matt et je gagnerai 1711 euros\n"
          ]
        }
      ]
    },
    {
      "cell_type": "code",
      "source": [
        "#ARITHMETIC +++\n",
        "Debit1 = 157000\n",
        "Debit2 = 1711\n",
        "Credit = 157000"
      ],
      "metadata": {
        "id": "osHXC3lWwmEo"
      },
      "execution_count": null,
      "outputs": []
    },
    {
      "cell_type": "code",
      "source": [
        "Debit1+Debit2"
      ],
      "metadata": {
        "colab": {
          "base_uri": "https://localhost:8080/"
        },
        "id": "aVWKR0jJxK50",
        "outputId": "58e7cbd7-fdfc-4642-ddf0-7b22559c8252"
      },
      "execution_count": null,
      "outputs": [
        {
          "output_type": "execute_result",
          "data": {
            "text/plain": [
              "158711"
            ]
          },
          "metadata": {},
          "execution_count": 8
        }
      ]
    },
    {
      "cell_type": "code",
      "source": [
        "a = Debit1\n",
        "b = Debit2"
      ],
      "metadata": {
        "id": "BhvDrGNFxWl-"
      },
      "execution_count": null,
      "outputs": []
    },
    {
      "cell_type": "code",
      "source": [
        "Debit1, Debit2\n",
        "print(f\"SUM : {Debit1+Debit2}, DELTA : {a-b}, PRODUIT : {a*b}, DIVISION : {a/b}\")"
      ],
      "metadata": {
        "colab": {
          "base_uri": "https://localhost:8080/"
        },
        "id": "GDW5UANtxPc_",
        "outputId": "af8f0946-54a7-42d8-d934-e620b9f12d51"
      },
      "execution_count": null,
      "outputs": [
        {
          "output_type": "stream",
          "name": "stdout",
          "text": [
            "SUM : 158711, DELTA : 155289, PRODUIT : 268627000, DIVISION : 91.75920514319111\n"
          ]
        }
      ]
    },
    {
      "cell_type": "code",
      "source": [
        "print(f\"Division Integer : {a//b}\")"
      ],
      "metadata": {
        "colab": {
          "base_uri": "https://localhost:8080/"
        },
        "id": "aXrxC_8_yGK3",
        "outputId": "589de808-5a74-48cc-9900-f0f904591df8"
      },
      "execution_count": null,
      "outputs": [
        {
          "output_type": "stream",
          "name": "stdout",
          "text": [
            "Division Integer : 91\n"
          ]
        }
      ]
    },
    {
      "cell_type": "code",
      "source": [
        "# LIST\n",
        "banks = [\"BDL\",\"BGL\", \"BNP\",\"BIL\"]\n",
        "banks[2]"
      ],
      "metadata": {
        "colab": {
          "base_uri": "https://localhost:8080/",
          "height": 36
        },
        "id": "k0mOANY8yj-o",
        "outputId": "fb4bcbc9-938d-4715-88da-e72883201d00"
      },
      "execution_count": null,
      "outputs": [
        {
          "output_type": "execute_result",
          "data": {
            "text/plain": [
              "'BNP'"
            ],
            "application/vnd.google.colaboratory.intrinsic+json": {
              "type": "string"
            }
          },
          "metadata": {},
          "execution_count": 20
        }
      ]
    },
    {
      "cell_type": "code",
      "source": [
        "# DICTIONNAIRE\n",
        "# Non-ordonné et PAIRES-CLE\n",
        "valorisation = {\"nom\": \"Nike\", \"actif\" : 37, \"passif\" : 34}"
      ],
      "metadata": {
        "id": "D1VZyGoTy7cP"
      },
      "execution_count": null,
      "outputs": []
    },
    {
      "cell_type": "code",
      "source": [
        "print(f\"La valorisation de {valorisation['nom']}\")"
      ],
      "metadata": {
        "colab": {
          "base_uri": "https://localhost:8080/"
        },
        "id": "GFJhyGB_0AqU",
        "outputId": "b300d48a-56fd-406d-a23a-3a0670c810fc"
      },
      "execution_count": null,
      "outputs": [
        {
          "output_type": "stream",
          "name": "stdout",
          "text": [
            "La valorisation de Nike\n"
          ]
        }
      ]
    },
    {
      "cell_type": "markdown",
      "source": [
        "# Exemples pour les auditeurs\n",
        "Etude de cas pour l'audit"
      ],
      "metadata": {
        "id": "8NmxZX2v7SY2"
      }
    },
    {
      "cell_type": "code",
      "source": [
        "#Cellule des variables\n",
        "revenus = 100000\n",
        "depenses = 75000\n",
        "taux_imposition_francais = 0.25\n",
        "taux_imposition_luxembourgeois = 0.17\n",
        "taux_imposition_irlande = 0.125"
      ],
      "metadata": {
        "id": "ma-l4ISG7a1r"
      },
      "execution_count": null,
      "outputs": []
    },
    {
      "cell_type": "code",
      "source": [
        "#Cellule des calculs\n",
        "benefice = revenus-depenses\n",
        "impot_en_France = benefice * taux_imposition_francais\n",
        "impot_au_Lux = taux_imposition_luxembourgeois*benefice\n",
        "impot_en_Irlande = taux_imposition_irlande*benefice\n",
        "benefice_net_fr = benefice-impot_en_France"
      ],
      "metadata": {
        "id": "gh1xFx5P7rvw"
      },
      "execution_count": null,
      "outputs": []
    },
    {
      "cell_type": "code",
      "source": [
        "#Cellule des checks/prints : calcul en direct\n",
        "print(\"Impot à payer en France\", taux_imposition_francais * benefice, \"€\")"
      ],
      "metadata": {
        "colab": {
          "base_uri": "https://localhost:8080/"
        },
        "id": "dhmKcI0-M2fj",
        "outputId": "3d7d0b39-6d84-43da-cf17-111444283cc3"
      },
      "execution_count": null,
      "outputs": [
        {
          "output_type": "stream",
          "name": "stdout",
          "text": [
            "Impot à payer en France 6250.0 €\n"
          ]
        }
      ]
    },
    {
      "cell_type": "code",
      "source": [
        "#Cellule des checks/prints : calcul préparé en amont\n",
        "print(\"Impôt à payer en France\", impot_en_France, \"€\")"
      ],
      "metadata": {
        "colab": {
          "base_uri": "https://localhost:8080/"
        },
        "id": "N_zOr6liLthV",
        "outputId": "c4009b79-d18b-4d4a-e568-b26aff6b9f6d"
      },
      "execution_count": null,
      "outputs": [
        {
          "output_type": "stream",
          "name": "stdout",
          "text": [
            "Impôt à payer en France 6250.0 €\n"
          ]
        }
      ]
    },
    {
      "cell_type": "code",
      "source": [
        "#Comparaison avec l'Irlande et le Luxembourg\n",
        "print(\"On compare au Luxembourg\", taux_imposition_luxembourgeois * benefice, \"€\", \"vs en Irlande\", taux_imposition_irlande * benefice, \"€\")"
      ],
      "metadata": {
        "colab": {
          "base_uri": "https://localhost:8080/"
        },
        "id": "oYuB5RcDNTuD",
        "outputId": "4a404e9b-19cf-4df5-b763-c857533a7ff6"
      },
      "execution_count": null,
      "outputs": [
        {
          "output_type": "stream",
          "name": "stdout",
          "text": [
            "On compare au Luxembourg 4250.0 € vs en Irlande 3125.0 €\n"
          ]
        }
      ]
    },
    {
      "cell_type": "code",
      "source": [
        "impot_au_Lux = taux_imposition_luxembourgeois*benefice\n",
        "impot_en_Irlande = taux_imposition_irlande*benefice"
      ],
      "metadata": {
        "id": "Dhg8bjXBOl58"
      },
      "execution_count": null,
      "outputs": []
    },
    {
      "cell_type": "code",
      "source": [
        "impot_en_France - impot_au_Lux"
      ],
      "metadata": {
        "colab": {
          "base_uri": "https://localhost:8080/"
        },
        "id": "v0w100CqOdOH",
        "outputId": "e7d44c9a-385f-4265-d748-9f9a6a38aa2e"
      },
      "execution_count": null,
      "outputs": [
        {
          "output_type": "execute_result",
          "data": {
            "text/plain": [
              "2000.0"
            ]
          },
          "metadata": {},
          "execution_count": 44
        }
      ]
    },
    {
      "cell_type": "markdown",
      "source": [
        "#Structures de contrôle"
      ],
      "metadata": {
        "id": "Xh-aTa9dPPad"
      }
    },
    {
      "cell_type": "code",
      "source": [
        "# CONDITIONS (if,elif,else)\n",
        "\n",
        "if benefice_net_fr > 0:\n",
        "  print(\"L'entreprise réalise un bénéfice net. Un bénef de\",benefice_net_fr,\"€\")\n",
        "elif benefice_net_fr == 0:\n",
        "  print(\"L'entreprise est à équilibre\")\n",
        "else :\n",
        "  print(\"L'entreprise réalise une perte nette\")"
      ],
      "metadata": {
        "colab": {
          "base_uri": "https://localhost:8080/"
        },
        "id": "nBnL1jz8PSrT",
        "outputId": "2cf18ac6-3ce5-404b-d7eb-9c7f86cf2090"
      },
      "execution_count": null,
      "outputs": [
        {
          "output_type": "stream",
          "name": "stdout",
          "text": [
            "L'entreprise réalise un bénéfice net. Un bénef de 18750.0 €\n"
          ]
        }
      ]
    },
    {
      "cell_type": "markdown",
      "source": [
        "#IMPORTATION DES BIBLIOTHEQUES\n",
        "\n",
        "##Les packages se différencient entre 2 grandes catégories\n",
        "##1) Ceux \"outils\" : contenant des fonctions\n",
        "##2) Ceux \"de données\" : contenant des données/valeurs\n"
      ],
      "metadata": {
        "id": "GDpNJvGGVzn0"
      }
    },
    {
      "cell_type": "markdown",
      "source": [],
      "metadata": {
        "id": "SDidUALJVyYS"
      }
    },
    {
      "cell_type": "code",
      "source": [
        "# Le package d'outils le plus répandu en Python est PANDAS (ou POLARS)\n",
        "import pandas as pd"
      ],
      "metadata": {
        "id": "WXk9YxSrbFKt"
      },
      "execution_count": 3,
      "outputs": []
    },
    {
      "cell_type": "code",
      "source": [
        "# Le package \"données\" le plus répandu en Python x Finance est... Yahoo Finance\n",
        "import yfinance as yf"
      ],
      "metadata": {
        "id": "w6HrOxtQbGQQ"
      },
      "execution_count": 4,
      "outputs": []
    },
    {
      "cell_type": "code",
      "source": [
        "#BLOCK : IMPORTATION DES PACKAGES\n",
        "import yfinance as yf\n",
        "import pandas as pd\n",
        "import matplotlib.pyplot as plt\n",
        "# dans les packages \"outils\" vous pouvez SOUS SELECTIONNER LE CHAPITRE"
      ],
      "metadata": {
        "id": "pQY0ucv8bUjT"
      },
      "execution_count": 5,
      "outputs": []
    },
    {
      "cell_type": "code",
      "source": [
        "#BLOCK : VARIABLES\n",
        "#Pour une comparaison d'indices selon les pays\n",
        "france_symbol='EWQ'#iShares MSCI France ETF\n",
        "irelande_symbol='EWK'#iShares MSCI Irelande ETF\n",
        "luxembourg_symbol='SPY' #S&P500 son ETF"
      ],
      "metadata": {
        "id": "A0LAT6JodMuj"
      },
      "execution_count": 9,
      "outputs": []
    },
    {
      "cell_type": "code",
      "source": [
        "#BLOCK : TIME FRAME\n",
        "start_date='2010-01-01'\n",
        "end_date='2025-01-01'"
      ],
      "metadata": {
        "id": "RWTyBElWdMiu"
      },
      "execution_count": 13,
      "outputs": []
    },
    {
      "cell_type": "code",
      "source": [
        "#Téléchargment des données historiques de YFinance pour chaque pays\n",
        "france_data=yf.download(france_symbol,start=start_date,end=end_date)\n",
        "irelande_data=yf.download(irelande_symbol,start=start_date,end=end_date)\n",
        "lux_data=yf.download(luxembourg_symbol,start=start_date,end=end_date)"
      ],
      "metadata": {
        "colab": {
          "base_uri": "https://localhost:8080/"
        },
        "id": "odss-Qtubpov",
        "outputId": "73b19473-4eba-4f07-94ab-3d5877324192"
      },
      "execution_count": 14,
      "outputs": [
        {
          "output_type": "stream",
          "name": "stderr",
          "text": [
            "[*********************100%***********************]  1 of 1 completed\n",
            "[*********************100%***********************]  1 of 1 completed\n",
            "[*********************100%***********************]  1 of 1 completed\n"
          ]
        }
      ]
    },
    {
      "cell_type": "code",
      "source": [
        "print(france_data)"
      ],
      "metadata": {
        "colab": {
          "base_uri": "https://localhost:8080/"
        },
        "id": "RxXIW4MseRKp",
        "outputId": "b170bb1d-903d-4c4d-9adb-acf99e0ea1be"
      },
      "execution_count": 15,
      "outputs": [
        {
          "output_type": "stream",
          "name": "stdout",
          "text": [
            "Price           Close       High        Low       Open  Volume\n",
            "Ticker            EWQ        EWQ        EWQ        EWQ     EWQ\n",
            "Date                                                          \n",
            "2010-01-04  17.787554  17.827421  17.641372  17.641372   97400\n",
            "2010-01-05  17.741041  17.867287  17.674595  17.847354  164100\n",
            "2010-01-06  17.834061  17.840705  17.687880  17.734392  117300\n",
            "2010-01-07  17.754322  17.787546  17.634721  17.648009   87500\n",
            "2010-01-08  18.000177  18.006822  17.760972  17.787551  155400\n",
            "...               ...        ...        ...        ...     ...\n",
            "2024-12-24  35.970001  36.009998  35.619999  35.730000  187100\n",
            "2024-12-26  36.119999  36.200001  35.939999  35.959999  216600\n",
            "2024-12-27  36.060001  36.139999  35.900002  35.959999  758900\n",
            "2024-12-30  35.810001  35.910000  35.650002  35.900002  361400\n",
            "2024-12-31  35.880001  36.169998  35.799999  36.169998  401800\n",
            "\n",
            "[3774 rows x 5 columns]\n"
          ]
        }
      ]
    },
    {
      "cell_type": "code",
      "source": [
        "#BLOCK : ANALYSE DES DATAFRAME\n",
        "#Il y a des jours fériés donc il y a des valeurs nulles\n",
        "#france_data.isnull().sum()\n",
        "#DATA_FRAME.FUNCTION_NAME()"
      ],
      "metadata": {
        "id": "8bcCUAJMeREl"
      },
      "execution_count": 16,
      "outputs": []
    },
    {
      "cell_type": "code",
      "source": [
        "#Calcul de la renta cumulée des fonds sur une période\n",
        "lux_cumulatives_return=(1+lux_return).cumprod()-1\n",
        "irelande_cumulative"
      ],
      "metadata": {
        "id": "oV9A6wMOexXY"
      },
      "execution_count": null,
      "outputs": []
    }
  ]
}